{
 "cells": [
  {
   "cell_type": "code",
   "execution_count": null,
   "metadata": {
    "colab": {
     "base_uri": "https://localhost:8080/"
    },
    "id": "Tda3sRKYZDhK",
    "outputId": "03dbb129-c7df-4401-92a8-8387f304ffba"
   },
   "outputs": [],
   "source": [
    "%pip install tweepy datetime"
   ]
  },
  {
   "cell_type": "code",
   "execution_count": null,
   "metadata": {
    "id": "cug18EgFZDhO"
   },
   "outputs": [],
   "source": [
    "!python Leitura_tweets.py"
   ]
  },
  {
   "cell_type": "code",
   "execution_count": null,
   "metadata": {
    "id": "8hnStRufZDhP"
   },
   "outputs": [],
   "source": [
    "import json"
   ]
  },
  {
   "cell_type": "code",
   "execution_count": null,
   "metadata": {
    "id": "X6cj2_XBZDhQ"
   },
   "outputs": [],
   "source": [
    "with open('tweets_coletados.txt','r') as file:\n",
    "    tweets = file.readlines()"
   ]
  },
  {
   "cell_type": "code",
   "execution_count": 5,
   "metadata": {
    "colab": {
     "base_uri": "https://localhost:8080/",
     "height": 123
    },
    "id": "TiKZ76BNZDhR",
    "outputId": "6b42adbc-25a4-47f6-f0e9-b926a097b0d0"
   },
   "outputs": [
    {
     "ename": "NameError",
     "evalue": "name 'tweets' is not defined",
     "output_type": "error",
     "traceback": [
      "\u001b[1;31m---------------------------------------------------------------------------\u001b[0m",
      "\u001b[1;31mNameError\u001b[0m                                 Traceback (most recent call last)",
      "Input \u001b[1;32mIn [5]\u001b[0m, in \u001b[0;36m<cell line: 1>\u001b[1;34m()\u001b[0m\n\u001b[1;32m----> 1\u001b[0m \u001b[43mtweets\u001b[49m[\u001b[38;5;241m0\u001b[39m]\n",
      "\u001b[1;31mNameError\u001b[0m: name 'tweets' is not defined"
     ]
    }
   ],
   "source": [
    "tweets[0] "
   ]
  },
  {
   "cell_type": "code",
   "execution_count": null,
   "metadata": {
    "colab": {
     "base_uri": "https://localhost:8080/",
     "height": 123
    },
    "id": "7Jn7eIoLai_m",
    "outputId": "aae846c0-3255-48f5-b5fb-fdf8976f8783"
   },
   "outputs": [],
   "source": [
    "json.loads(tweets[0])"
   ]
  },
  {
   "cell_type": "code",
   "execution_count": null,
   "metadata": {
    "colab": {
     "base_uri": "https://localhost:8080/"
    },
    "id": "0QNjmACYbIXT",
    "outputId": "68ce06a4-c15a-474a-9ddb-fdac70da1ac8"
   },
   "outputs": [],
   "source": [
    "type (json.loads(tweets[0]))"
   ]
  },
  {
   "cell_type": "code",
   "execution_count": null,
   "metadata": {
    "colab": {
     "base_uri": "https://localhost:8080/"
    },
    "id": "jxQybyVmbY4G",
    "outputId": "6d771ebc-d453-4776-948f-2fbd47415546"
   },
   "outputs": [],
   "source": [
    "json.loads(\n",
    "        json.loads(tweets[0])            \n",
    ")                        \n"
   ]
  },
  {
   "cell_type": "code",
   "execution_count": null,
   "metadata": {
    "id": "PcURvEq8ZDhS"
   },
   "outputs": [],
   "source": [
    "with open('tweets.json','w') as out:\n",
    "  json.dump(\n",
    "      json.loads(json.loads(tweets[0])), out\n",
    "  )"
   ]
  },
  {
   "cell_type": "code",
   "execution_count": null,
   "metadata": {
    "id": "HHeF-JoxJxvK"
   },
   "outputs": [],
   "source": [
    "tratar_tweets = [json.loads( json.loads(i) ) for i in tweets] "
   ]
  },
  {
   "cell_type": "code",
   "execution_count": null,
   "metadata": {
    "colab": {
     "base_uri": "https://localhost:8080/"
    },
    "id": "PoTUKVPaiBkw",
    "outputId": "35fd597d-6d76-4364-c9cb-a2cc07a80a58"
   },
   "outputs": [],
   "source": [
    "len(tratar_tweets)"
   ]
  },
  {
   "cell_type": "code",
   "execution_count": null,
   "metadata": {
    "colab": {
     "base_uri": "https://localhost:8080/"
    },
    "id": "3w8fexW-jhhF",
    "outputId": "c551c4ba-b4b3-4a40-c0a3-9399be582098"
   },
   "outputs": [],
   "source": [
    "tratar_tweets[0].keys()"
   ]
  },
  {
   "cell_type": "code",
   "execution_count": null,
   "metadata": {
    "colab": {
     "base_uri": "https://localhost:8080/",
     "height": 0
    },
    "id": "WXtzoo1cj1Qa",
    "outputId": "efc6f900-4042-4053-e0d4-a95bd3966e79"
   },
   "outputs": [],
   "source": [
    "tratar_tweets[0][\"created_at\"]"
   ]
  },
  {
   "cell_type": "code",
   "execution_count": null,
   "metadata": {
    "colab": {
     "base_uri": "https://localhost:8080/"
    },
    "id": "z0YTkUJakSAa",
    "outputId": "4e8bf8a2-54ae-45ad-ef9e-77e5dfb4298b"
   },
   "outputs": [],
   "source": [
    "tratar_tweets[0][\"user\"]"
   ]
  },
  {
   "cell_type": "code",
   "execution_count": null,
   "metadata": {
    "colab": {
     "base_uri": "https://localhost:8080/"
    },
    "id": "L3wkia2skhWS",
    "outputId": "ce32f3f4-296f-4c4b-900b-c27d31602df6"
   },
   "outputs": [],
   "source": [
    "tratar_tweets[0][\"user\"][\"listed_count\"]"
   ]
  },
  {
   "cell_type": "code",
   "execution_count": null,
   "metadata": {
    "colab": {
     "base_uri": "https://localhost:8080/"
    },
    "id": "iZHacwY9kntw",
    "outputId": "3e3f1d41-f35b-4ba9-bd35-97a8e73c0519"
   },
   "outputs": [],
   "source": [
    "tratar_tweets[0].items()"
   ]
  },
  {
   "cell_type": "code",
   "execution_count": null,
   "metadata": {
    "colab": {
     "base_uri": "https://localhost:8080/"
    },
    "id": "5aDYYlSPlHPV",
    "outputId": "37f60c89-7858-4e91-fbe1-67201e70614e"
   },
   "outputs": [],
   "source": [
    "list(tratar_tweets[0].items())[0]"
   ]
  },
  {
   "cell_type": "code",
   "execution_count": null,
   "metadata": {
    "colab": {
     "base_uri": "https://localhost:8080/"
    },
    "id": "INT69qEblZng",
    "outputId": "13688556-c55a-4e98-cd24-6bfa0d6813f7"
   },
   "outputs": [],
   "source": [
    "tratar_tweets[5]"
   ]
  },
  {
   "cell_type": "code",
   "execution_count": null,
   "metadata": {
    "id": "K-p4FNwGm4aP"
   },
   "outputs": [],
   "source": [
    "import pandas as pd"
   ]
  },
  {
   "cell_type": "code",
   "execution_count": null,
   "metadata": {
    "id": "jCvj_w8JweBt"
   },
   "outputs": [],
   "source": [
    "##teste = pd.DataFrame(tratar_tweets[0])"
   ]
  },
  {
   "cell_type": "code",
   "execution_count": null,
   "metadata": {
    "colab": {
     "base_uri": "https://localhost:8080/",
     "height": 0
    },
    "id": "-_7ggVifwufN",
    "outputId": "41a818d3-33e9-441e-bf33-a030a2d0d0ae"
   },
   "outputs": [],
   "source": [
    "##teste\n"
   ]
  },
  {
   "cell_type": "code",
   "execution_count": null,
   "metadata": {
    "colab": {
     "base_uri": "https://localhost:8080/"
    },
    "id": "sXIPZ9SRw8Hb",
    "outputId": "d852089b-1a4c-4937-ab18-34338650f246"
   },
   "outputs": [],
   "source": [
    "##teste.columns"
   ]
  },
  {
   "cell_type": "code",
   "execution_count": null,
   "metadata": {
    "id": "neQ8NARfxKUX"
   },
   "outputs": [],
   "source": [
    "df = pd.DataFrame(tratar_tweets[0]).reset_index(drop=True).iloc[:1]"
   ]
  },
  {
   "cell_type": "code",
   "execution_count": null,
   "metadata": {
    "colab": {
     "base_uri": "https://localhost:8080/",
     "height": 0
    },
    "id": "UWIg9ySn4jvf",
    "outputId": "9a846665-9ab9-4e70-ba20-a19c890cbd11"
   },
   "outputs": [],
   "source": [
    "df\n"
   ]
  },
  {
   "cell_type": "code",
   "execution_count": null,
   "metadata": {
    "colab": {
     "base_uri": "https://localhost:8080/"
    },
    "id": "w6qrRguF4lGQ",
    "outputId": "f0c7d1bf-a7c8-47df-bb45-fe4a98dc9b7d"
   },
   "outputs": [],
   "source": [
    "df.columns"
   ]
  },
  {
   "cell_type": "code",
   "execution_count": null,
   "metadata": {
    "id": "QNeQmwAS5AsE"
   },
   "outputs": [],
   "source": [
    "df.drop(columns=['quote_count', 'reply_count', 'retweet_count', 'favorite_count','favorited', 'retweeted',\n",
    "                 'user','entities','retweeted_status'],inplace=True)"
   ]
  },
  {
   "cell_type": "code",
   "execution_count": null,
   "metadata": {
    "colab": {
     "base_uri": "https://localhost:8080/"
    },
    "id": "rkOSSDTl562K",
    "outputId": "30e3e046-da21-41b5-b5be-d32f864658c9"
   },
   "outputs": [],
   "source": [
    "df.columns"
   ]
  },
  {
   "cell_type": "code",
   "execution_count": null,
   "metadata": {
    "id": "FGzf7RY45-lN"
   },
   "outputs": [],
   "source": [
    "df['user_id'] = tratar_tweets[0][\"user\"][\"id\"]\n",
    "df['user_id_str'] = tratar_tweets[0][\"user\"][\"id_str\"]\n",
    "df['user_screen_name'] = tratar_tweets[0][\"user\"][\"screen_name\"]\n",
    "df['user_location'] = tratar_tweets[0][\"user\"][\"location\"]\n",
    "df['user_description'] = tratar_tweets[0][\"user\"][\"description\"]\n",
    "df['user_protected'] = tratar_tweets[0][\"user\"][\"protected\"]\n",
    "df['user_verified'] = tratar_tweets[0][\"user\"][\"verified\"]\n",
    "df['user_followers_count'] = tratar_tweets[0][\"user\"][\"followers_count\"]\n",
    "df['user_friends_count'] = tratar_tweets[0][\"user\"][\"friends_count\"]\n",
    "df['user_created_at'] = tratar_tweets[0][\"user\"][\"created_at\"]\n",
    "\n",
    "\n"
   ]
  },
  {
   "cell_type": "code",
   "execution_count": null,
   "metadata": {
    "colab": {
     "base_uri": "https://localhost:8080/",
     "height": 0
    },
    "id": "6UX30bXe7ERG",
    "outputId": "6fe01022-5eca-4311-eebb-831a5e8fab73"
   },
   "outputs": [],
   "source": [
    "df"
   ]
  },
  {
   "cell_type": "code",
   "execution_count": null,
   "metadata": {
    "colab": {
     "base_uri": "https://localhost:8080/"
    },
    "id": "q0BzYzT98ztv",
    "outputId": "3ec58ce8-39e9-45df-9d7c-a3a4df9a370c"
   },
   "outputs": [],
   "source": [
    "# entities\n",
    "tratar_tweets[0][\"entities\"]"
   ]
  },
  {
   "cell_type": "code",
   "execution_count": null,
   "metadata": {
    "id": "JL1R_q-z9G0Z"
   },
   "outputs": [],
   "source": [
    "users_mentions = []\n",
    "for i in range(len(tratar_tweets[0][\"entities\"][\"user_mentions\"])):\n",
    "  dicionario = tratar_tweets[0][\"entities\"][\"user_mentions\"][i].copy()\n",
    "  dicionario.pop('indices', None)\n",
    "  df1 = pd.DataFrame(dicionario,index=[0])\n",
    "  df1 = df1.rename(columns={\n",
    "        'screen_name': 'entities_screen_name',\n",
    "        'name': 'entities_name',\n",
    "        'id': 'entities_id',\n",
    "        'id_str': 'entities_id_str'\n",
    "  })\n",
    "  users_mentions.append(df1)\n"
   ]
  },
  {
   "cell_type": "code",
   "execution_count": null,
   "metadata": {
    "colab": {
     "base_uri": "https://localhost:8080/"
    },
    "id": "iYDhBqkd9-5T",
    "outputId": "41b1f329-5de9-4023-adde-a918af9c55c5"
   },
   "outputs": [],
   "source": [
    "users_mentions"
   ]
  },
  {
   "cell_type": "code",
   "execution_count": null,
   "metadata": {
    "id": "UaSFw-78AhF0"
   },
   "outputs": [],
   "source": [
    "###pd.concat(users_mentions,ignore_index=True)"
   ]
  },
  {
   "cell_type": "code",
   "execution_count": null,
   "metadata": {
    "id": "qmVEbWToA932"
   },
   "outputs": [],
   "source": [
    "df2 = []\n",
    "for i in users_mentions:\n",
    "  df2.append(\n",
    "      pd.concat([df.copy(), i], axis=1)\n",
    "  )"
   ]
  },
  {
   "cell_type": "code",
   "execution_count": null,
   "metadata": {
    "colab": {
     "base_uri": "https://localhost:8080/",
     "height": 0
    },
    "id": "1NUBCRyGCPd1",
    "outputId": "f7bcba34-c6f4-445b-9b88-e10032e66e97"
   },
   "outputs": [],
   "source": [
    "df2[0]"
   ]
  },
  {
   "cell_type": "code",
   "execution_count": null,
   "metadata": {
    "colab": {
     "base_uri": "https://localhost:8080/",
     "height": 0
    },
    "id": "TEjy73AWCTYL",
    "outputId": "ac941b5e-9dfb-42b6-cb71-0e92f8415b19"
   },
   "outputs": [],
   "source": [
    "pd.concat(df2,ignore_index=True)"
   ]
  },
  {
   "cell_type": "code",
   "execution_count": null,
   "metadata": {
    "id": "L_yh5-LfDGyM"
   },
   "outputs": [],
   "source": [
    "def tweet_para_df(tweet):\n",
    "  try:\n",
    "    df = pd.DataFrame(tweet).reset_index(drop=True).iloc[:1]\n",
    "    df.drop(columns=['quote_count', 'reply_count', 'retweet_count', 'favorite_count','favorited', 'retweeted',\n",
    "                  'user','entities','retweeted_status'],inplace=True)\n",
    "    df['user_id'] = tweet[\"user\"][\"id\"]\n",
    "    df['user_id_str'] = tweet[\"user\"][\"id_str\"]\n",
    "    df['user_screen_name'] = tweet[\"user\"][\"screen_name\"]\n",
    "    df['user_location'] = tweet[\"user\"][\"location\"]\n",
    "    df['user_description'] = tweet[\"user\"][\"description\"]\n",
    "    df['user_protected'] = tweet[\"user\"][\"protected\"]\n",
    "    df['user_verified'] = tweet[\"user\"][\"verified\"]\n",
    "    df['user_followers_count'] = tweet[\"user\"][\"followers_count\"]\n",
    "    df['user_friends_count'] = tweet[\"user\"][\"friends_count\"]\n",
    "    df['user_created_at'] = tweet[\"user\"][\"created_at\"]  \n",
    "    users_mentions = []\n",
    "    for i in range(len(tweet[\"entities\"][\"user_mentions\"])):\n",
    "      dicionario = tweet[\"entities\"][\"user_mentions\"][i].copy()\n",
    "      dicionario.pop('indices', None)  \n",
    "      df1 = pd.DataFrame(dicionario,index=[0])\n",
    "      df1 = df1.rename(columns={\n",
    "            'screen_name': 'entities_screen_name',\n",
    "            'name': 'entities_name',\n",
    "            'id': 'entities_id',\n",
    "            'id_str': 'entities_id_str'\n",
    "      })\n",
    "      users_mentions.append(df1)\n",
    "\n",
    "    df2 = []\n",
    "    for i in users_mentions:\n",
    "      df2.append(\n",
    "          pd.concat([df.copy(), i], axis=1)\n",
    "      )\n",
    "    df_final = pd.concat(df2,ignore_index=True)\n",
    "  except:\n",
    "    return None\n",
    "  return df_final\n",
    "\n"
   ]
  },
  {
   "cell_type": "code",
   "execution_count": null,
   "metadata": {
    "id": "Eva3I9WkFdpI"
   },
   "outputs": [],
   "source": [
    "tweet_para_df(tratar_tweets[5])"
   ]
  },
  {
   "cell_type": "code",
   "execution_count": null,
   "metadata": {
    "colab": {
     "base_uri": "https://localhost:8080/"
    },
    "id": "ORUVGXVbHPeM",
    "outputId": "6ff599cb-d913-4155-f886-2a04e4ab062c"
   },
   "outputs": [],
   "source": [
    "%%time\n",
    "tweets_analisados = [tweet_para_df(tweet) for tweet in tratar_tweets]"
   ]
  },
  {
   "cell_type": "code",
   "execution_count": null,
   "metadata": {
    "colab": {
     "base_uri": "https://localhost:8080/"
    },
    "id": "FNvuBpqFJrLP",
    "outputId": "bea60ebf-3183-4710-da94-4be3b837e5a9"
   },
   "outputs": [],
   "source": [
    "len(tweets_analisados)"
   ]
  },
  {
   "cell_type": "code",
   "execution_count": null,
   "metadata": {
    "id": "izIIh4EcILNd"
   },
   "outputs": [],
   "source": [
    "tweets_analisados = [i for i in tweets_analisados if i is not None]"
   ]
  },
  {
   "cell_type": "code",
   "execution_count": null,
   "metadata": {
    "colab": {
     "base_uri": "https://localhost:8080/"
    },
    "id": "I8wdR0XqJugY",
    "outputId": "df04f989-ce13-486b-ee83-1a58a1ce8144"
   },
   "outputs": [],
   "source": [
    "len(tweets_analisados)"
   ]
  },
  {
   "cell_type": "code",
   "execution_count": null,
   "metadata": {
    "id": "kt87UOmRJwq4"
   },
   "outputs": [],
   "source": [
    "tratados = pd.concat(tweets_analisados,ignore_index=True)"
   ]
  },
  {
   "cell_type": "code",
   "execution_count": null,
   "metadata": {
    "colab": {
     "base_uri": "https://localhost:8080/",
     "height": 0
    },
    "id": "bv88m9cRKM5_",
    "outputId": "16be01df-65d0-4fb4-d05b-50943c8f1385"
   },
   "outputs": [],
   "source": [
    "tratados"
   ]
  }
 ],
 "metadata": {
  "colab": {
   "collapsed_sections": [
    "D3MOc7qnjejQ",
    "XvRcBka3wQTf",
    "oRZ18t4jC98L",
    "vBt8ysuiHMcA"
   ],
   "name": "extrai_dados_twitter (OK).ipynb",
   "provenance": []
  },
  "kernelspec": {
   "display_name": "Python 3 (ipykernel)",
   "language": "python",
   "name": "python3"
  },
  "language_info": {
   "codemirror_mode": {
    "name": "ipython",
    "version": 3
   },
   "file_extension": ".py",
   "mimetype": "text/x-python",
   "name": "python",
   "nbconvert_exporter": "python",
   "pygments_lexer": "ipython3",
   "version": "3.9.12"
  },
  "vscode": {
   "interpreter": {
    "hash": "4bc68a469b01165b4f1b96ba4c74cf4cecf434f30baa6573236f805da7a5679b"
   }
  }
 },
 "nbformat": 4,
 "nbformat_minor": 1
}
